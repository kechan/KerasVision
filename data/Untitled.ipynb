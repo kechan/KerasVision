{
 "cells": [
  {
   "cell_type": "code",
   "execution_count": 1,
   "metadata": {},
   "outputs": [
    {
     "name": "stderr",
     "output_type": "stream",
     "text": [
      "/Users/kechan/Documents/TensorFlowStuff/lib/python2.7/site-packages/h5py/__init__.py:36: FutureWarning: Conversion of the second argument of issubdtype from `float` to `np.floating` is deprecated. In future, it will be treated as `np.float64 == np.dtype(float).type`.\n",
      "  from ._conv import register_converters as _register_converters\n",
      "Using TensorFlow backend.\n"
     ]
    }
   ],
   "source": [
    "import os\n",
    "from keras.preprocessing.image import ImageDataGenerator"
   ]
  },
  {
   "cell_type": "code",
   "execution_count": 3,
   "metadata": {},
   "outputs": [],
   "source": [
    "base_dir = 'cropped'\n",
    "train_dir = os.path.join(base_dir, 'train')\n",
    "validation_dir = os.path.join(base_dir, 'validation')\n",
    "test_dir = os.path.join(base_dir, 'test')"
   ]
  },
  {
   "cell_type": "code",
   "execution_count": 4,
   "metadata": {},
   "outputs": [],
   "source": [
    "train_datagen = ImageDataGenerator(rescale=1./255)\n",
    "test_datagen = ImageDataGenerator(rescale=1./255)"
   ]
  },
  {
   "cell_type": "code",
   "execution_count": 17,
   "metadata": {},
   "outputs": [
    {
     "name": "stdout",
     "output_type": "stream",
     "text": [
      "Found 768 images belonging to 6 classes.\n"
     ]
    }
   ],
   "source": [
    "train_generator = train_datagen.flow_from_directory(train_dir, target_size=(150, 150), \n",
    "                                                    batch_size=32, classes=['UNK', '5c', '10c', '25c', '$1', '$2'])"
   ]
  },
  {
   "cell_type": "code",
   "execution_count": 18,
   "metadata": {},
   "outputs": [
    {
     "data": {
      "text/plain": [
       "{'$1': 4, '$2': 5, '10c': 2, '25c': 3, '5c': 1, 'UNK': 0}"
      ]
     },
     "execution_count": 18,
     "metadata": {},
     "output_type": "execute_result"
    }
   ],
   "source": [
    "train_generator.class_indices"
   ]
  },
  {
   "cell_type": "code",
   "execution_count": 10,
   "metadata": {},
   "outputs": [],
   "source": [
    "from data_util import *"
   ]
  },
  {
   "cell_type": "code",
   "execution_count": 10,
   "metadata": {},
   "outputs": [],
   "source": [
    "indices_class = reverse_dict(train_generator.class_indices)"
   ]
  },
  {
   "cell_type": "code",
   "execution_count": 11,
   "metadata": {},
   "outputs": [
    {
     "data": {
      "text/plain": [
       "{0: 'UNK', 1: '5c', 2: '10c', 3: '25c', 4: '$1', 5: '$2'}"
      ]
     },
     "execution_count": 11,
     "metadata": {},
     "output_type": "execute_result"
    }
   ],
   "source": [
    "indices_class"
   ]
  },
  {
   "cell_type": "code",
   "execution_count": 2,
   "metadata": {},
   "outputs": [],
   "source": [
    "from keras.models import Sequential\n",
    "from keras.layers import Dense\n",
    "\n",
    "baseline_model = Sequential()\n",
    "baseline_model.add(Dense(2048, activation='relu', input_shape=(64*64*3,) ))\n",
    "baseline_model.add(Dense(6, activation='softmax'))"
   ]
  },
  {
   "cell_type": "code",
   "execution_count": 3,
   "metadata": {},
   "outputs": [
    {
     "name": "stdout",
     "output_type": "stream",
     "text": [
      "_________________________________________________________________\n",
      "Layer (type)                 Output Shape              Param #   \n",
      "=================================================================\n",
      "dense_1 (Dense)              (None, 2048)              25167872  \n",
      "_________________________________________________________________\n",
      "dense_2 (Dense)              (None, 6)                 12294     \n",
      "=================================================================\n",
      "Total params: 25,180,166\n",
      "Trainable params: 25,180,166\n",
      "Non-trainable params: 0\n",
      "_________________________________________________________________\n"
     ]
    }
   ],
   "source": [
    "baseline_model.summary()"
   ]
  },
  {
   "cell_type": "code",
   "execution_count": 4,
   "metadata": {},
   "outputs": [],
   "source": [
    "from keras import optimizers"
   ]
  },
  {
   "cell_type": "code",
   "execution_count": 5,
   "metadata": {
    "collapsed": true
   },
   "outputs": [
    {
     "name": "stdout",
     "output_type": "stream",
     "text": [
      "WARNING:tensorflow:From /Users/kechan/Documents/TensorFlowStuff/lib/python2.7/site-packages/keras/backend/tensorflow_backend.py:2885: calling reduce_sum (from tensorflow.python.ops.math_ops) with keep_dims is deprecated and will be removed in a future version.\n",
      "Instructions for updating:\n",
      "keep_dims is deprecated, use keepdims instead\n",
      "WARNING:tensorflow:From /Users/kechan/Documents/TensorFlowStuff/lib/python2.7/site-packages/keras/backend/tensorflow_backend.py:1349: calling reduce_mean (from tensorflow.python.ops.math_ops) with keep_dims is deprecated and will be removed in a future version.\n",
      "Instructions for updating:\n",
      "keep_dims is deprecated, use keepdims instead\n"
     ]
    }
   ],
   "source": [
    "baseline_model.compile(loss='categorical_crossentropy', optimizer=optimizers.RMSprop(lr=1e-4), metrics=['accuracy'])"
   ]
  },
  {
   "cell_type": "code",
   "execution_count": 19,
   "metadata": {
    "collapsed": true
   },
   "outputs": [
    {
     "name": "stdout",
     "output_type": "stream",
     "text": [
      "Epoch 1/10\n"
     ]
    },
    {
     "ename": "ValueError",
     "evalue": "Error when checking input: expected dense_1_input to have 2 dimensions, but got array with shape (32, 150, 150, 3)",
     "output_type": "error",
     "traceback": [
      "\u001b[0;31m---------------------------------------------------------------------------\u001b[0m",
      "\u001b[0;31mValueError\u001b[0m                                Traceback (most recent call last)",
      "\u001b[0;32m<ipython-input-19-a417558f1505>\u001b[0m in \u001b[0;36m<module>\u001b[0;34m()\u001b[0m\n\u001b[0;32m----> 1\u001b[0;31m \u001b[0mhistory\u001b[0m \u001b[0;34m=\u001b[0m \u001b[0mbaseline_model\u001b[0m\u001b[0;34m.\u001b[0m\u001b[0mfit_generator\u001b[0m\u001b[0;34m(\u001b[0m\u001b[0mtrain_generator\u001b[0m\u001b[0;34m,\u001b[0m \u001b[0msteps_per_epoch\u001b[0m\u001b[0;34m=\u001b[0m\u001b[0;36m24\u001b[0m\u001b[0;34m,\u001b[0m \u001b[0mepochs\u001b[0m\u001b[0;34m=\u001b[0m\u001b[0;36m10\u001b[0m\u001b[0;34m)\u001b[0m\u001b[0;34m\u001b[0m\u001b[0m\n\u001b[0m",
      "\u001b[0;32m/Users/kelvinchan/Documents/TensorFlowStuff/lib/python2.7/site-packages/keras/legacy/interfaces.pyc\u001b[0m in \u001b[0;36mwrapper\u001b[0;34m(*args, **kwargs)\u001b[0m\n\u001b[1;32m     89\u001b[0m                 warnings.warn('Update your `' + object_name +\n\u001b[1;32m     90\u001b[0m                               '` call to the Keras 2 API: ' + signature, stacklevel=2)\n\u001b[0;32m---> 91\u001b[0;31m             \u001b[0;32mreturn\u001b[0m \u001b[0mfunc\u001b[0m\u001b[0;34m(\u001b[0m\u001b[0;34m*\u001b[0m\u001b[0margs\u001b[0m\u001b[0;34m,\u001b[0m \u001b[0;34m**\u001b[0m\u001b[0mkwargs\u001b[0m\u001b[0;34m)\u001b[0m\u001b[0;34m\u001b[0m\u001b[0m\n\u001b[0m\u001b[1;32m     92\u001b[0m         \u001b[0mwrapper\u001b[0m\u001b[0;34m.\u001b[0m\u001b[0m_original_function\u001b[0m \u001b[0;34m=\u001b[0m \u001b[0mfunc\u001b[0m\u001b[0;34m\u001b[0m\u001b[0m\n\u001b[1;32m     93\u001b[0m         \u001b[0;32mreturn\u001b[0m \u001b[0mwrapper\u001b[0m\u001b[0;34m\u001b[0m\u001b[0m\n",
      "\u001b[0;32m/Users/kelvinchan/Documents/TensorFlowStuff/lib/python2.7/site-packages/keras/models.pyc\u001b[0m in \u001b[0;36mfit_generator\u001b[0;34m(self, generator, steps_per_epoch, epochs, verbose, callbacks, validation_data, validation_steps, class_weight, max_queue_size, workers, use_multiprocessing, shuffle, initial_epoch)\u001b[0m\n\u001b[1;32m   1251\u001b[0m                                         \u001b[0muse_multiprocessing\u001b[0m\u001b[0;34m=\u001b[0m\u001b[0muse_multiprocessing\u001b[0m\u001b[0;34m,\u001b[0m\u001b[0;34m\u001b[0m\u001b[0m\n\u001b[1;32m   1252\u001b[0m                                         \u001b[0mshuffle\u001b[0m\u001b[0;34m=\u001b[0m\u001b[0mshuffle\u001b[0m\u001b[0;34m,\u001b[0m\u001b[0;34m\u001b[0m\u001b[0m\n\u001b[0;32m-> 1253\u001b[0;31m                                         initial_epoch=initial_epoch)\n\u001b[0m\u001b[1;32m   1254\u001b[0m \u001b[0;34m\u001b[0m\u001b[0m\n\u001b[1;32m   1255\u001b[0m     \u001b[0;34m@\u001b[0m\u001b[0minterfaces\u001b[0m\u001b[0;34m.\u001b[0m\u001b[0mlegacy_generator_methods_support\u001b[0m\u001b[0;34m\u001b[0m\u001b[0m\n",
      "\u001b[0;32m/Users/kelvinchan/Documents/TensorFlowStuff/lib/python2.7/site-packages/keras/legacy/interfaces.pyc\u001b[0m in \u001b[0;36mwrapper\u001b[0;34m(*args, **kwargs)\u001b[0m\n\u001b[1;32m     89\u001b[0m                 warnings.warn('Update your `' + object_name +\n\u001b[1;32m     90\u001b[0m                               '` call to the Keras 2 API: ' + signature, stacklevel=2)\n\u001b[0;32m---> 91\u001b[0;31m             \u001b[0;32mreturn\u001b[0m \u001b[0mfunc\u001b[0m\u001b[0;34m(\u001b[0m\u001b[0;34m*\u001b[0m\u001b[0margs\u001b[0m\u001b[0;34m,\u001b[0m \u001b[0;34m**\u001b[0m\u001b[0mkwargs\u001b[0m\u001b[0;34m)\u001b[0m\u001b[0;34m\u001b[0m\u001b[0m\n\u001b[0m\u001b[1;32m     92\u001b[0m         \u001b[0mwrapper\u001b[0m\u001b[0;34m.\u001b[0m\u001b[0m_original_function\u001b[0m \u001b[0;34m=\u001b[0m \u001b[0mfunc\u001b[0m\u001b[0;34m\u001b[0m\u001b[0m\n\u001b[1;32m     93\u001b[0m         \u001b[0;32mreturn\u001b[0m \u001b[0mwrapper\u001b[0m\u001b[0;34m\u001b[0m\u001b[0m\n",
      "\u001b[0;32m/Users/kelvinchan/Documents/TensorFlowStuff/lib/python2.7/site-packages/keras/engine/training.pyc\u001b[0m in \u001b[0;36mfit_generator\u001b[0;34m(self, generator, steps_per_epoch, epochs, verbose, callbacks, validation_data, validation_steps, class_weight, max_queue_size, workers, use_multiprocessing, shuffle, initial_epoch)\u001b[0m\n\u001b[1;32m   2242\u001b[0m                     outs = self.train_on_batch(x, y,\n\u001b[1;32m   2243\u001b[0m                                                \u001b[0msample_weight\u001b[0m\u001b[0;34m=\u001b[0m\u001b[0msample_weight\u001b[0m\u001b[0;34m,\u001b[0m\u001b[0;34m\u001b[0m\u001b[0m\n\u001b[0;32m-> 2244\u001b[0;31m                                                class_weight=class_weight)\n\u001b[0m\u001b[1;32m   2245\u001b[0m \u001b[0;34m\u001b[0m\u001b[0m\n\u001b[1;32m   2246\u001b[0m                     \u001b[0;32mif\u001b[0m \u001b[0;32mnot\u001b[0m \u001b[0misinstance\u001b[0m\u001b[0;34m(\u001b[0m\u001b[0mouts\u001b[0m\u001b[0;34m,\u001b[0m \u001b[0mlist\u001b[0m\u001b[0;34m)\u001b[0m\u001b[0;34m:\u001b[0m\u001b[0;34m\u001b[0m\u001b[0m\n",
      "\u001b[0;32m/Users/kelvinchan/Documents/TensorFlowStuff/lib/python2.7/site-packages/keras/engine/training.pyc\u001b[0m in \u001b[0;36mtrain_on_batch\u001b[0;34m(self, x, y, sample_weight, class_weight)\u001b[0m\n\u001b[1;32m   1882\u001b[0m             \u001b[0mx\u001b[0m\u001b[0;34m,\u001b[0m \u001b[0my\u001b[0m\u001b[0;34m,\u001b[0m\u001b[0;34m\u001b[0m\u001b[0m\n\u001b[1;32m   1883\u001b[0m             \u001b[0msample_weight\u001b[0m\u001b[0;34m=\u001b[0m\u001b[0msample_weight\u001b[0m\u001b[0;34m,\u001b[0m\u001b[0;34m\u001b[0m\u001b[0m\n\u001b[0;32m-> 1884\u001b[0;31m             class_weight=class_weight)\n\u001b[0m\u001b[1;32m   1885\u001b[0m         \u001b[0;32mif\u001b[0m \u001b[0mself\u001b[0m\u001b[0;34m.\u001b[0m\u001b[0muses_learning_phase\u001b[0m \u001b[0;32mand\u001b[0m \u001b[0;32mnot\u001b[0m \u001b[0misinstance\u001b[0m\u001b[0;34m(\u001b[0m\u001b[0mK\u001b[0m\u001b[0;34m.\u001b[0m\u001b[0mlearning_phase\u001b[0m\u001b[0;34m(\u001b[0m\u001b[0;34m)\u001b[0m\u001b[0;34m,\u001b[0m \u001b[0mint\u001b[0m\u001b[0;34m)\u001b[0m\u001b[0;34m:\u001b[0m\u001b[0;34m\u001b[0m\u001b[0m\n\u001b[1;32m   1886\u001b[0m             \u001b[0mins\u001b[0m \u001b[0;34m=\u001b[0m \u001b[0mx\u001b[0m \u001b[0;34m+\u001b[0m \u001b[0my\u001b[0m \u001b[0;34m+\u001b[0m \u001b[0msample_weights\u001b[0m \u001b[0;34m+\u001b[0m \u001b[0;34m[\u001b[0m\u001b[0;36m1.\u001b[0m\u001b[0;34m]\u001b[0m\u001b[0;34m\u001b[0m\u001b[0m\n",
      "\u001b[0;32m/Users/kelvinchan/Documents/TensorFlowStuff/lib/python2.7/site-packages/keras/engine/training.pyc\u001b[0m in \u001b[0;36m_standardize_user_data\u001b[0;34m(self, x, y, sample_weight, class_weight, check_array_lengths, batch_size)\u001b[0m\n\u001b[1;32m   1481\u001b[0m                                     \u001b[0mself\u001b[0m\u001b[0;34m.\u001b[0m\u001b[0m_feed_input_shapes\u001b[0m\u001b[0;34m,\u001b[0m\u001b[0;34m\u001b[0m\u001b[0m\n\u001b[1;32m   1482\u001b[0m                                     \u001b[0mcheck_batch_axis\u001b[0m\u001b[0;34m=\u001b[0m\u001b[0mFalse\u001b[0m\u001b[0;34m,\u001b[0m\u001b[0;34m\u001b[0m\u001b[0m\n\u001b[0;32m-> 1483\u001b[0;31m                                     exception_prefix='input')\n\u001b[0m\u001b[1;32m   1484\u001b[0m         y = _standardize_input_data(y, self._feed_output_names,\n\u001b[1;32m   1485\u001b[0m                                     \u001b[0moutput_shapes\u001b[0m\u001b[0;34m,\u001b[0m\u001b[0;34m\u001b[0m\u001b[0m\n",
      "\u001b[0;32m/Users/kelvinchan/Documents/TensorFlowStuff/lib/python2.7/site-packages/keras/engine/training.pyc\u001b[0m in \u001b[0;36m_standardize_input_data\u001b[0;34m(data, names, shapes, check_batch_axis, exception_prefix)\u001b[0m\n\u001b[1;32m    111\u001b[0m                         \u001b[0;34m': expected '\u001b[0m \u001b[0;34m+\u001b[0m \u001b[0mnames\u001b[0m\u001b[0;34m[\u001b[0m\u001b[0mi\u001b[0m\u001b[0;34m]\u001b[0m \u001b[0;34m+\u001b[0m \u001b[0;34m' to have '\u001b[0m \u001b[0;34m+\u001b[0m\u001b[0;34m\u001b[0m\u001b[0m\n\u001b[1;32m    112\u001b[0m                         \u001b[0mstr\u001b[0m\u001b[0;34m(\u001b[0m\u001b[0mlen\u001b[0m\u001b[0;34m(\u001b[0m\u001b[0mshape\u001b[0m\u001b[0;34m)\u001b[0m\u001b[0;34m)\u001b[0m \u001b[0;34m+\u001b[0m \u001b[0;34m' dimensions, but got array '\u001b[0m\u001b[0;34m\u001b[0m\u001b[0m\n\u001b[0;32m--> 113\u001b[0;31m                         'with shape ' + str(data_shape))\n\u001b[0m\u001b[1;32m    114\u001b[0m                 \u001b[0;32mif\u001b[0m \u001b[0;32mnot\u001b[0m \u001b[0mcheck_batch_axis\u001b[0m\u001b[0;34m:\u001b[0m\u001b[0;34m\u001b[0m\u001b[0m\n\u001b[1;32m    115\u001b[0m                     \u001b[0mdata_shape\u001b[0m \u001b[0;34m=\u001b[0m \u001b[0mdata_shape\u001b[0m\u001b[0;34m[\u001b[0m\u001b[0;36m1\u001b[0m\u001b[0;34m:\u001b[0m\u001b[0;34m]\u001b[0m\u001b[0;34m\u001b[0m\u001b[0m\n",
      "\u001b[0;31mValueError\u001b[0m: Error when checking input: expected dense_1_input to have 2 dimensions, but got array with shape (32, 150, 150, 3)"
     ]
    }
   ],
   "source": [
    "history = baseline_model.fit_generator(train_generator, steps_per_epoch=24, epochs=10)"
   ]
  },
  {
   "cell_type": "code",
   "execution_count": 8,
   "metadata": {},
   "outputs": [],
   "source": [
    "height = 64\n",
    "width = 64\n",
    "\n",
    "outfile_path = \"testing/train_\" + str(height) + \"_\" + str(width) + \".hdf5\""
   ]
  },
  {
   "cell_type": "code",
   "execution_count": 11,
   "metadata": {},
   "outputs": [],
   "source": [
    "train_set_x, train_set_y, _, _, _, _, classes = load_all_data(outfile_path)"
   ]
  },
  {
   "cell_type": "code",
   "execution_count": 12,
   "metadata": {},
   "outputs": [
    {
     "data": {
      "text/plain": [
       "(768, 64, 64, 3)"
      ]
     },
     "execution_count": 12,
     "metadata": {},
     "output_type": "execute_result"
    }
   ],
   "source": [
    "train_set_x.shape"
   ]
  },
  {
   "cell_type": "code",
   "execution_count": 13,
   "metadata": {},
   "outputs": [],
   "source": [
    "outfile_path = \"testing/validation_\" + str(height) + \"_\" + str(width) + \".hdf5\""
   ]
  },
  {
   "cell_type": "code",
   "execution_count": 14,
   "metadata": {},
   "outputs": [],
   "source": [
    "_, _, dev_set_x, dev_set_y, _, _, classes = load_all_data(outfile_path)"
   ]
  },
  {
   "cell_type": "code",
   "execution_count": 15,
   "metadata": {},
   "outputs": [],
   "source": [
    "outfile_path = \"testing/test_\" + str(height) + \"_\" + str(width) + \".hdf5\""
   ]
  },
  {
   "cell_type": "code",
   "execution_count": 16,
   "metadata": {},
   "outputs": [],
   "source": [
    "_, _, _, _, test_set_x, test_set_y, classes = load_all_data(outfile_path)"
   ]
  },
  {
   "cell_type": "code",
   "execution_count": 17,
   "metadata": {},
   "outputs": [],
   "source": [
    "train_set_x = train_set_x.reshape((-1, 64*64*3))\n",
    "dev_set_x = dev_set_x.reshape((-1, 64*64*3))\n",
    "test_set_x = test_set_x.reshape((-1, 64*64*3))"
   ]
  },
  {
   "cell_type": "code",
   "execution_count": 18,
   "metadata": {},
   "outputs": [],
   "source": [
    "train_set_x = train_set_x.astype('float32') / 255.\n",
    "dev_set_x = dev_set_x.astype('float32') / 255.\n",
    "test_set_x = test_set_x.astype('float32') / 255."
   ]
  },
  {
   "cell_type": "code",
   "execution_count": 19,
   "metadata": {},
   "outputs": [],
   "source": [
    "from keras.utils import to_categorical\n",
    "\n",
    "train_set_y = to_categorical(train_set_y)\n",
    "dev_set_y = to_categorical(dev_set_y)\n",
    "test_set_y = to_categorical(test_set_y)"
   ]
  },
  {
   "cell_type": "code",
   "execution_count": 48,
   "metadata": {
    "collapsed": true
   },
   "outputs": [
    {
     "name": "stdout",
     "output_type": "stream",
     "text": [
      "Train on 768 samples, validate on 192 samples\n",
      "Epoch 1/50\n",
      "768/768 [==============================] - 19s 25ms/step - loss: 0.4428 - acc: 0.8242 - val_loss: 2.3768 - val_acc: 0.3854\n",
      "Epoch 2/50\n",
      "768/768 [==============================] - 19s 25ms/step - loss: 0.4657 - acc: 0.8294 - val_loss: 1.9310 - val_acc: 0.3958\n",
      "Epoch 3/50\n",
      "768/768 [==============================] - 19s 25ms/step - loss: 0.4212 - acc: 0.8411 - val_loss: 4.3348 - val_acc: 0.3229\n",
      "Epoch 4/50\n",
      "768/768 [==============================] - 19s 25ms/step - loss: 0.4151 - acc: 0.8438 - val_loss: 2.6894 - val_acc: 0.3490\n",
      "Epoch 5/50\n",
      "768/768 [==============================] - 19s 25ms/step - loss: 0.4614 - acc: 0.8346 - val_loss: 2.3916 - val_acc: 0.3438\n",
      "Epoch 6/50\n",
      "768/768 [==============================] - 19s 25ms/step - loss: 0.4204 - acc: 0.8411 - val_loss: 2.3308 - val_acc: 0.3750\n",
      "Epoch 7/50\n",
      "768/768 [==============================] - 19s 25ms/step - loss: 0.4054 - acc: 0.8503 - val_loss: 2.5685 - val_acc: 0.3490\n",
      "Epoch 8/50\n",
      "768/768 [==============================] - 19s 25ms/step - loss: 0.4199 - acc: 0.8438 - val_loss: 2.3645 - val_acc: 0.3646\n",
      "Epoch 9/50\n",
      "768/768 [==============================] - 19s 25ms/step - loss: 0.4349 - acc: 0.8346 - val_loss: 2.0581 - val_acc: 0.4167\n",
      "Epoch 10/50\n",
      "768/768 [==============================] - 19s 25ms/step - loss: 0.4701 - acc: 0.8268 - val_loss: 2.2353 - val_acc: 0.3594\n",
      "Epoch 11/50\n",
      "768/768 [==============================] - 19s 25ms/step - loss: 0.4301 - acc: 0.8503 - val_loss: 2.2428 - val_acc: 0.4010\n",
      "Epoch 12/50\n",
      "768/768 [==============================] - 19s 25ms/step - loss: 0.4097 - acc: 0.8438 - val_loss: 2.0738 - val_acc: 0.4167\n",
      "Epoch 13/50\n",
      "768/768 [==============================] - 19s 25ms/step - loss: 0.4090 - acc: 0.8385 - val_loss: 2.2696 - val_acc: 0.3594\n",
      "Epoch 14/50\n",
      "768/768 [==============================] - 19s 25ms/step - loss: 0.4369 - acc: 0.8229 - val_loss: 2.4116 - val_acc: 0.3542\n",
      "Epoch 15/50\n",
      "768/768 [==============================] - 19s 25ms/step - loss: 0.4208 - acc: 0.8516 - val_loss: 2.0085 - val_acc: 0.4271\n",
      "Epoch 16/50\n",
      "768/768 [==============================] - 19s 25ms/step - loss: 0.4322 - acc: 0.8438 - val_loss: 2.2063 - val_acc: 0.3646\n",
      "Epoch 17/50\n",
      "768/768 [==============================] - 19s 25ms/step - loss: 0.4169 - acc: 0.8477 - val_loss: 2.3159 - val_acc: 0.3698\n",
      "Epoch 18/50\n",
      "768/768 [==============================] - 19s 25ms/step - loss: 0.4226 - acc: 0.8398 - val_loss: 3.2247 - val_acc: 0.3333\n",
      "Epoch 19/50\n",
      "768/768 [==============================] - 19s 25ms/step - loss: 0.4367 - acc: 0.8385 - val_loss: 2.9707 - val_acc: 0.3385\n",
      "Epoch 20/50\n",
      "768/768 [==============================] - 19s 25ms/step - loss: 0.4444 - acc: 0.8385 - val_loss: 2.4377 - val_acc: 0.3490\n",
      "Epoch 21/50\n",
      "768/768 [==============================] - 19s 25ms/step - loss: 0.3622 - acc: 0.8607 - val_loss: 1.9180 - val_acc: 0.4010\n",
      "Epoch 22/50\n",
      "768/768 [==============================] - 19s 25ms/step - loss: 0.4029 - acc: 0.8516 - val_loss: 2.8027 - val_acc: 0.3594\n",
      "Epoch 23/50\n",
      "768/768 [==============================] - 19s 25ms/step - loss: 0.3828 - acc: 0.8568 - val_loss: 2.7322 - val_acc: 0.3333\n",
      "Epoch 24/50\n",
      "768/768 [==============================] - 19s 25ms/step - loss: 0.4148 - acc: 0.8451 - val_loss: 2.6583 - val_acc: 0.4167\n",
      "Epoch 25/50\n",
      "768/768 [==============================] - 19s 25ms/step - loss: 0.3773 - acc: 0.8711 - val_loss: 2.2621 - val_acc: 0.3594\n",
      "Epoch 26/50\n",
      "768/768 [==============================] - 19s 25ms/step - loss: 0.4446 - acc: 0.8451 - val_loss: 2.5561 - val_acc: 0.3229\n",
      "Epoch 27/50\n",
      "768/768 [==============================] - 19s 25ms/step - loss: 0.3846 - acc: 0.8737 - val_loss: 2.2562 - val_acc: 0.3750\n",
      "Epoch 28/50\n",
      "768/768 [==============================] - 19s 25ms/step - loss: 0.4291 - acc: 0.8320 - val_loss: 2.4157 - val_acc: 0.3750\n",
      "Epoch 29/50\n",
      "768/768 [==============================] - 19s 25ms/step - loss: 0.3545 - acc: 0.8737 - val_loss: 3.8059 - val_acc: 0.3594\n",
      "Epoch 30/50\n",
      "768/768 [==============================] - 19s 25ms/step - loss: 0.3739 - acc: 0.8750 - val_loss: 3.2152 - val_acc: 0.3438\n",
      "Epoch 31/50\n",
      "768/768 [==============================] - 19s 25ms/step - loss: 0.4033 - acc: 0.8359 - val_loss: 2.2492 - val_acc: 0.3542\n",
      "Epoch 32/50\n",
      "768/768 [==============================] - 19s 25ms/step - loss: 0.3820 - acc: 0.8555 - val_loss: 2.0518 - val_acc: 0.4115\n",
      "Epoch 33/50\n",
      "768/768 [==============================] - 19s 25ms/step - loss: 0.3701 - acc: 0.8659 - val_loss: 2.3714 - val_acc: 0.3698\n",
      "Epoch 34/50\n",
      "768/768 [==============================] - 19s 25ms/step - loss: 0.4216 - acc: 0.8542 - val_loss: 2.4405 - val_acc: 0.3958\n",
      "Epoch 35/50\n",
      "768/768 [==============================] - 19s 25ms/step - loss: 0.3751 - acc: 0.8542 - val_loss: 2.7668 - val_acc: 0.3646\n",
      "Epoch 36/50\n",
      "768/768 [==============================] - 19s 25ms/step - loss: 0.4302 - acc: 0.8320 - val_loss: 2.8554 - val_acc: 0.3594\n",
      "Epoch 37/50\n",
      "768/768 [==============================] - 19s 25ms/step - loss: 0.4012 - acc: 0.8620 - val_loss: 2.7521 - val_acc: 0.3802\n",
      "Epoch 38/50\n",
      "768/768 [==============================] - 19s 25ms/step - loss: 0.3502 - acc: 0.8763 - val_loss: 4.0117 - val_acc: 0.3490\n",
      "Epoch 39/50\n",
      "768/768 [==============================] - 19s 25ms/step - loss: 0.4501 - acc: 0.8398 - val_loss: 3.4400 - val_acc: 0.3542\n",
      "Epoch 40/50\n",
      "768/768 [==============================] - 19s 25ms/step - loss: 0.3441 - acc: 0.8776 - val_loss: 3.0698 - val_acc: 0.3490\n",
      "Epoch 41/50\n",
      "768/768 [==============================] - 19s 25ms/step - loss: 0.4126 - acc: 0.8594 - val_loss: 2.5640 - val_acc: 0.3385\n",
      "Epoch 42/50\n",
      "768/768 [==============================] - 19s 25ms/step - loss: 0.3344 - acc: 0.8763 - val_loss: 2.2133 - val_acc: 0.4167\n",
      "Epoch 43/50\n",
      "768/768 [==============================] - 19s 25ms/step - loss: 0.3578 - acc: 0.8711 - val_loss: 2.2181 - val_acc: 0.3854\n",
      "Epoch 44/50\n",
      "768/768 [==============================] - 19s 25ms/step - loss: 0.3799 - acc: 0.8568 - val_loss: 2.5520 - val_acc: 0.3438\n",
      "Epoch 45/50\n",
      "768/768 [==============================] - 19s 25ms/step - loss: 0.3593 - acc: 0.8698 - val_loss: 2.0398 - val_acc: 0.4167\n",
      "Epoch 46/50\n",
      "768/768 [==============================] - 19s 25ms/step - loss: 0.3840 - acc: 0.8490 - val_loss: 2.8963 - val_acc: 0.3750\n",
      "Epoch 47/50\n",
      "768/768 [==============================] - 19s 25ms/step - loss: 0.3613 - acc: 0.8685 - val_loss: 2.3542 - val_acc: 0.3958\n",
      "Epoch 48/50\n",
      "768/768 [==============================] - 20s 26ms/step - loss: 0.3423 - acc: 0.8698 - val_loss: 2.6180 - val_acc: 0.3490\n",
      "Epoch 49/50\n",
      "768/768 [==============================] - 19s 25ms/step - loss: 0.3221 - acc: 0.8815 - val_loss: 2.7484 - val_acc: 0.4219\n",
      "Epoch 50/50\n",
      "768/768 [==============================] - 19s 25ms/step - loss: 0.3897 - acc: 0.8581 - val_loss: 2.5735 - val_acc: 0.4219\n"
     ]
    }
   ],
   "source": [
    "history_ = baseline_model.fit(train_set_x, train_set_y, epochs=50, batch_size=32, validation_data=(dev_set_x, dev_set_y))"
   ]
  },
  {
   "cell_type": "code",
   "execution_count": 49,
   "metadata": {},
   "outputs": [],
   "source": [
    "for measure in history.history.keys():\n",
    "    history.history[measure] += history_.history[measure]"
   ]
  },
  {
   "cell_type": "code",
   "execution_count": 53,
   "metadata": {},
   "outputs": [
    {
     "data": {
      "text/plain": [
       "{'batch_size': 32,\n",
       " 'do_validation': True,\n",
       " 'epochs': 50,\n",
       " 'metrics': ['loss', 'acc', 'val_loss', 'val_acc'],\n",
       " 'samples': 768,\n",
       " 'steps': None,\n",
       " 'verbose': 1}"
      ]
     },
     "execution_count": 53,
     "metadata": {},
     "output_type": "execute_result"
    }
   ],
   "source": [
    "history_.params"
   ]
  },
  {
   "cell_type": "code",
   "execution_count": 21,
   "metadata": {},
   "outputs": [],
   "source": [
    "import matplotlib.pyplot as plt\n",
    "\n",
    "%matplotlib inline\n",
    "plt.rcParams['figure.figsize'] = (5.0, 4.0) # set default size of plots\n",
    "plt.rcParams['image.interpolation'] = 'nearest'\n",
    "plt.rcParams['image.cmap'] = 'gray'\n",
    "\n",
    "%load_ext autoreload\n",
    "%autoreload 2"
   ]
  },
  {
   "cell_type": "code",
   "execution_count": 50,
   "metadata": {},
   "outputs": [
    {
     "data": {
      "image/png": "[encoded data removed]",
      "text/plain": [
       "<matplotlib.figure.Figure at 0x144f186d0>"
      ]
     },
     "metadata": {},
     "output_type": "display_data"
    },
    {
     "data": {
      "image/png": "[encoded data removed]",
      "text/plain": [
       "<matplotlib.figure.Figure at 0x145441c10>"
      ]
     },
     "metadata": {},
     "output_type": "display_data"
    }
   ],
   "source": [
    "acc = history.history['acc']\n",
    "val_acc = history.history['val_acc']\n",
    "loss = history.history['loss']\n",
    "val_loss = history.history['val_loss']\n",
    "\n",
    "epochs = range(len(acc))\n",
    "\n",
    "plt.figure(figsize=(8, 8))\n",
    "\n",
    "plt.plot(epochs, acc, 'bo', label='Training acc')\n",
    "plt.plot(epochs, val_acc, 'b', label='Validation acc')\n",
    "plt.title('Training and validation accuracy')\n",
    "plt.legend()\n",
    "\n",
    "plt.figure(figsize=(8, 8))\n",
    "\n",
    "plt.plot(epochs, loss, 'bo', label='Training loss')\n",
    "plt.plot(epochs, val_loss, 'b', label='Validation loss')\n",
    "plt.title('Training and validation loss')\n",
    "plt.legend()\n",
    "\n",
    "plt.show()"
   ]
  },
  {
   "cell_type": "code",
   "execution_count": 54,
   "metadata": {},
   "outputs": [],
   "source": [
    "import pickle"
   ]
  },
  {
   "cell_type": "code",
   "execution_count": 56,
   "metadata": {},
   "outputs": [],
   "source": [
    "with open('tmp.pickle', 'wb') as f:\n",
    "    pickle.dump(history.history, f)"
   ]
  },
  {
   "cell_type": "code",
   "execution_count": 58,
   "metadata": {},
   "outputs": [
    {
     "ename": "AttributeError",
     "evalue": "'str' object has no attribute 'readline'",
     "output_type": "error",
     "traceback": [
      "\u001b[0;31m---------------------------------------------------------------------------\u001b[0m",
      "\u001b[0;31mAttributeError\u001b[0m                            Traceback (most recent call last)",
      "\u001b[0;32m<ipython-input-58-6c6b5f6b01bb>\u001b[0m in \u001b[0;36m<module>\u001b[0;34m()\u001b[0m\n\u001b[0;32m----> 1\u001b[0;31m \u001b[0mpickle\u001b[0m\u001b[0;34m.\u001b[0m\u001b[0mload\u001b[0m\u001b[0;34m(\u001b[0m\u001b[0;34m'tmp.pickle'\u001b[0m\u001b[0;34m)\u001b[0m\u001b[0;34m\u001b[0m\u001b[0m\n\u001b[0m",
      "\u001b[0;32m/System/Library/Frameworks/Python.framework/Versions/2.7/lib/python2.7/pickle.pyc\u001b[0m in \u001b[0;36mload\u001b[0;34m(file)\u001b[0m\n\u001b[1;32m   1376\u001b[0m \u001b[0;34m\u001b[0m\u001b[0m\n\u001b[1;32m   1377\u001b[0m \u001b[0;32mdef\u001b[0m \u001b[0mload\u001b[0m\u001b[0;34m(\u001b[0m\u001b[0mfile\u001b[0m\u001b[0;34m)\u001b[0m\u001b[0;34m:\u001b[0m\u001b[0;34m\u001b[0m\u001b[0m\n\u001b[0;32m-> 1378\u001b[0;31m     \u001b[0;32mreturn\u001b[0m \u001b[0mUnpickler\u001b[0m\u001b[0;34m(\u001b[0m\u001b[0mfile\u001b[0m\u001b[0;34m)\u001b[0m\u001b[0;34m.\u001b[0m\u001b[0mload\u001b[0m\u001b[0;34m(\u001b[0m\u001b[0;34m)\u001b[0m\u001b[0;34m\u001b[0m\u001b[0m\n\u001b[0m\u001b[1;32m   1379\u001b[0m \u001b[0;34m\u001b[0m\u001b[0m\n\u001b[1;32m   1380\u001b[0m \u001b[0;32mdef\u001b[0m \u001b[0mloads\u001b[0m\u001b[0;34m(\u001b[0m\u001b[0mstr\u001b[0m\u001b[0;34m)\u001b[0m\u001b[0;34m:\u001b[0m\u001b[0;34m\u001b[0m\u001b[0m\n",
      "\u001b[0;32m/System/Library/Frameworks/Python.framework/Versions/2.7/lib/python2.7/pickle.pyc\u001b[0m in \u001b[0;36m__init__\u001b[0;34m(self, file)\u001b[0m\n\u001b[1;32m    839\u001b[0m         \u001b[0;32mor\u001b[0m \u001b[0many\u001b[0m \u001b[0mother\u001b[0m \u001b[0mcustom\u001b[0m \u001b[0mobject\u001b[0m \u001b[0mthat\u001b[0m \u001b[0mmeets\u001b[0m \u001b[0mthis\u001b[0m \u001b[0minterface\u001b[0m\u001b[0;34m.\u001b[0m\u001b[0;34m\u001b[0m\u001b[0m\n\u001b[1;32m    840\u001b[0m         \"\"\"\n\u001b[0;32m--> 841\u001b[0;31m         \u001b[0mself\u001b[0m\u001b[0;34m.\u001b[0m\u001b[0mreadline\u001b[0m \u001b[0;34m=\u001b[0m \u001b[0mfile\u001b[0m\u001b[0;34m.\u001b[0m\u001b[0mreadline\u001b[0m\u001b[0;34m\u001b[0m\u001b[0m\n\u001b[0m\u001b[1;32m    842\u001b[0m         \u001b[0mself\u001b[0m\u001b[0;34m.\u001b[0m\u001b[0mread\u001b[0m \u001b[0;34m=\u001b[0m \u001b[0mfile\u001b[0m\u001b[0;34m.\u001b[0m\u001b[0mread\u001b[0m\u001b[0;34m\u001b[0m\u001b[0m\n\u001b[1;32m    843\u001b[0m         \u001b[0mself\u001b[0m\u001b[0;34m.\u001b[0m\u001b[0mmemo\u001b[0m \u001b[0;34m=\u001b[0m \u001b[0;34m{\u001b[0m\u001b[0;34m}\u001b[0m\u001b[0;34m\u001b[0m\u001b[0m\n",
      "\u001b[0;31mAttributeError\u001b[0m: 'str' object has no attribute 'readline'"
     ]
    }
   ],
   "source": [
    "pickle.load('tmp.pickle')"
   ]
  },
  {
   "cell_type": "code",
   "execution_count": 59,
   "metadata": {},
   "outputs": [
    {
     "data": {
      "text/plain": [
       "dict"
      ]
     },
     "execution_count": 59,
     "metadata": {},
     "output_type": "execute_result"
    }
   ],
   "source": [
    "type(history.history)"
   ]
  },
  {
   "cell_type": "code",
   "execution_count": 60,
   "metadata": {},
   "outputs": [],
   "source": [
    "with open('tmp.pickle', 'rb') as f:\n",
    "    tmp = pickle.load(f)"
   ]
  },
  {
   "cell_type": "code",
   "execution_count": 62,
   "metadata": {},
   "outputs": [],
   "source": [
    "baseline_model.load_weights?"
   ]
  },
  {
   "cell_type": "code",
   "execution_count": null,
   "metadata": {},
   "outputs": [],
   "source": [
    "baseline_model."
   ]
  }
 ],
 "metadata": {
  "kernelspec": {
   "display_name": "Python 2",
   "language": "python",
   "name": "python2"
  },
  "language_info": {
   "codemirror_mode": {
    "name": "ipython",
    "version": 2
   },
   "file_extension": ".py",
   "mimetype": "text/x-python",
   "name": "python",
   "nbconvert_exporter": "python",
   "pygments_lexer": "ipython2",
   "version": "2.7.10"
  }
 },
 "nbformat": 4,
 "nbformat_minor": 2
}
